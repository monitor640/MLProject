{
 "cells": [
  {
   "cell_type": "code",
   "execution_count": 1,
   "id": "d9d6366f-3265-4efc-a653-4eeed1cd5167",
   "metadata": {},
   "outputs": [],
   "source": [
    "import pandas as pd\n",
    "import numpy as np\n",
    "import re\n",
    "from sklearn.model_selection import train_test_split\n",
    "from sklearn.feature_extraction.text import TfidfVectorizer\n",
    "from sklearn.linear_model import LogisticRegression\n",
    "from sklearn.metrics import classification_report\n",
    "import random\n",
    "from nltk.corpus import wordnet\n",
    "import nltk\n",
    "\n",
    "import torch\n",
    "from torch.utils.data import Dataset, DataLoader\n",
    "from transformers import BertTokenizer, BertForSequenceClassification, Trainer, TrainingArguments\n",
    "from sklearn.metrics import accuracy_score, f1_score, precision_score, recall_score"
   ]
  },
  {
   "cell_type": "code",
   "execution_count": 2,
   "id": "8ab5c4dc-9875-42d3-9c25-c89b8d54492a",
   "metadata": {},
   "outputs": [
    {
     "name": "stderr",
     "output_type": "stream",
     "text": [
      "[nltk_data] Downloading package wordnet to\n",
      "[nltk_data]     /Users/sofiakriuchkova/nltk_data...\n",
      "[nltk_data]   Package wordnet is already up-to-date!\n",
      "[nltk_data] Downloading package omw-1.4 to\n",
      "[nltk_data]     /Users/sofiakriuchkova/nltk_data...\n",
      "[nltk_data]   Package omw-1.4 is already up-to-date!\n"
     ]
    }
   ],
   "source": [
    "# Uploading the necessary resources for WordNet\n",
    "nltk.download('wordnet')\n",
    "nltk.download('omw-1.4')\n",
    "\n",
    "# Load training and test datasets\n",
    "train_path = 'train.csv'\n",
    "test_path = 'test.csv'\n",
    "train_df = pd.read_csv(train_path)\n",
    "test_df = pd.read_csv(test_path)"
   ]
  },
  {
   "cell_type": "code",
   "execution_count": 3,
   "id": "6010b502-4f5e-49aa-89d8-45659945724d",
   "metadata": {},
   "outputs": [],
   "source": [
    "# 2. Function for text preprocessing \n",
    "def preprocess_text_simple(text):   \n",
    "    # Lowercase text\n",
    "    text = text.lower()\n",
    "    # URL deletion\n",
    "    text = re.sub(r'http\\S+|www\\S+|https\\S+', '', text, flags=re.MULTILINE)\n",
    "    # Removing special characters, numbers and punctuation\n",
    "    text = re.sub(r'\\W+|\\d+', ' ', text)\n",
    "    # Dividing text into words\n",
    "    tokens = text.split()\n",
    "    # stopwords\n",
    "    stop_words = {'and', 'or', 'but', 'so', 'because', 'the', 'a', 'an', 'in', 'on', 'at', 'of', 'to', 'is', 'it', 'this', 'that'}\n",
    "    tokens = [word for word in tokens if word not in stop_words]\n",
    "    return ' '.join(tokens)"
   ]
  },
  {
   "cell_type": "code",
   "execution_count": 4,
   "id": "1c360cc9-68a7-437e-87e3-00843997c6bc",
   "metadata": {},
   "outputs": [],
   "source": [
    "train_df['processed_text'] = train_df['text'].apply(preprocess_text_simple)\n",
    "test_df['processed_text'] = test_df['text'].apply(preprocess_text_simple)"
   ]
  },
  {
   "cell_type": "code",
   "execution_count": 5,
   "id": "80c70a71-0724-46b2-b409-6e3d1238fe62",
   "metadata": {},
   "outputs": [],
   "source": [
    "# 3. Function for text augmentation\n",
    "def get_synonyms(word):\n",
    "\n",
    "    synonyms = set()\n",
    "    for syn in wordnet.synsets(word):\n",
    "        for lemma in syn.lemmas():\n",
    "            synonyms.add(lemma.name())\n",
    "    return list(synonyms)\n",
    "\n",
    "def augment_text_with_wordnet(text):\n",
    "    \n",
    "    words = text.split()\n",
    "    augmented_text = words.copy()\n",
    "    \n",
    "    # Replacing words with synonyms (30% chance)\n",
    "    for i, word in enumerate(words):\n",
    "        if random.random() < 0.3:  \n",
    "            synonyms = get_synonyms(word)\n",
    "            if synonyms:\n",
    "                augmented_text[i] = random.choice(synonyms)\n",
    "    \n",
    "    # Removing random words (20% chance)\n",
    "    augmented_text = [word for word in augmented_text if random.random() > 0.2]\n",
    "    return ' '.join(augmented_text)"
   ]
  },
  {
   "cell_type": "code",
   "execution_count": 6,
   "id": "df033063-a952-4e61-ab61-d46df408e00c",
   "metadata": {},
   "outputs": [
    {
     "name": "stdout",
     "output_type": "stream",
     "text": [
      "              precision    recall  f1-score   support\n",
      "\n",
      "           0       0.80      0.92      0.86      1700\n",
      "           1       0.87      0.71      0.79      1346\n",
      "\n",
      "    accuracy                           0.83      3046\n",
      "   macro avg       0.84      0.82      0.82      3046\n",
      "weighted avg       0.83      0.83      0.83      3046\n",
      "\n"
     ]
    }
   ],
   "source": [
    "# Application of augmentation using WordNet\n",
    "train_df['augmented_text'] = train_df['processed_text'].apply(augment_text_with_wordnet)\n",
    "\n",
    "# 4. Preparing data for training\n",
    "# Combination of original and augmented text for learning purposes\n",
    "train_texts = pd.concat([train_df['processed_text'], train_df['augmented_text']])\n",
    "train_targets = pd.concat([train_df['target'], train_df['target']])\n",
    "\n",
    "# Division into training and validation sets\n",
    "X_train, X_val, y_train, y_val = train_test_split(train_texts, train_targets, test_size=0.2, random_state=42)\n",
    "\n",
    "# 5. Converting text to signs with TF-IDF\n",
    "vectorizer = TfidfVectorizer(max_features=5000) \n",
    "X_train_tfidf = vectorizer.fit_transform(X_train)\n",
    "X_val_tfidf = vectorizer.transform(X_val)\n",
    "\n",
    "# 6. Training of the model \n",
    "model = LogisticRegression(random_state=42, max_iter=1000)  # Logistic regression\n",
    "model.fit(X_train_tfidf, y_train)  \n",
    "\n",
    "# 7. Evaluation of the model  \n",
    "y_val_pred = model.predict(X_val_tfidf)  # Предсказания на валидационных данных\n",
    "validation_report = classification_report(y_val, y_val_pred)  # Отчет о качестве\n",
    "print(validation_report)\n",
    "\n",
    "# 8. Applying the model to the test set\n",
    "X_test_tfidf = vectorizer.transform(test_df['processed_text'])  # Test data conversion\n",
    "\n",
    "test_df['target'] = model.predict(X_test_tfidf)  # Prediction of target value\n",
    "\n",
    "test_df.to_csv('test_predictions.csv', index=False)"
   ]
  },
  {
   "cell_type": "code",
   "execution_count": 7,
   "id": "0a6c1b0a-9595-47c8-8d5e-3da23dd574ac",
   "metadata": {},
   "outputs": [],
   "source": [
    "# Reading a prediction file\n",
    "sample_submission = pd.read_csv(\"test_predictions.csv\")\n",
    "\n",
    "# Using a trained model for predictions\n",
    "sample_submission[\"target\"] = model.predict(X_test_tfidf)\n",
    "\n",
    "# Saving to file\n",
    "sample_submission.to_csv(\"sofia_submission.csv\", index=False)"
   ]
  },
  {
   "cell_type": "code",
   "execution_count": 9,
   "id": "a9422ba4-4886-448f-9962-6b91a4198bc8",
   "metadata": {},
   "outputs": [
    {
     "name": "stderr",
     "output_type": "stream",
     "text": [
      "Some weights of BertForSequenceClassification were not initialized from the model checkpoint at bert-base-uncased and are newly initialized: ['classifier.bias', 'classifier.weight']\n",
      "You should probably TRAIN this model on a down-stream task to be able to use it for predictions and inference.\n",
      "/opt/anaconda3/envs/kt/lib/python3.10/site-packages/transformers/training_args.py:1559: FutureWarning: `evaluation_strategy` is deprecated and will be removed in version 4.46 of 🤗 Transformers. Use `eval_strategy` instead\n",
      "  warnings.warn(\n",
      "/var/folders/6g/70z4bwk11l771tqx2cthhf6h0000gn/T/ipykernel_9553/2367177182.py:75: FutureWarning: `tokenizer` is deprecated and will be removed in version 5.0.0 for `Trainer.__init__`. Use `processing_class` instead.\n",
      "  trainer = Trainer(\n"
     ]
    },
    {
     "data": {
      "text/html": [
       "\n",
       "    <div>\n",
       "      \n",
       "      <progress value='2286' max='2286' style='width:300px; height:20px; vertical-align: middle;'></progress>\n",
       "      [2286/2286 37:56, Epoch 3/3]\n",
       "    </div>\n",
       "    <table border=\"1\" class=\"dataframe\">\n",
       "  <thead>\n",
       " <tr style=\"text-align: left;\">\n",
       "      <th>Epoch</th>\n",
       "      <th>Training Loss</th>\n",
       "      <th>Validation Loss</th>\n",
       "      <th>Accuracy</th>\n",
       "      <th>Precision</th>\n",
       "      <th>Recall</th>\n",
       "      <th>F1</th>\n",
       "    </tr>\n",
       "  </thead>\n",
       "  <tbody>\n",
       "    <tr>\n",
       "      <td>1</td>\n",
       "      <td>0.441000</td>\n",
       "      <td>0.428169</td>\n",
       "      <td>0.832896</td>\n",
       "      <td>0.845447</td>\n",
       "      <td>0.832896</td>\n",
       "      <td>0.828674</td>\n",
       "    </tr>\n",
       "    <tr>\n",
       "      <td>2</td>\n",
       "      <td>0.291300</td>\n",
       "      <td>0.391311</td>\n",
       "      <td>0.858503</td>\n",
       "      <td>0.859554</td>\n",
       "      <td>0.858503</td>\n",
       "      <td>0.857586</td>\n",
       "    </tr>\n",
       "    <tr>\n",
       "      <td>3</td>\n",
       "      <td>0.162300</td>\n",
       "      <td>0.469395</td>\n",
       "      <td>0.864412</td>\n",
       "      <td>0.864471</td>\n",
       "      <td>0.864412</td>\n",
       "      <td>0.863963</td>\n",
       "    </tr>\n",
       "  </tbody>\n",
       "</table><p>"
      ],
      "text/plain": [
       "<IPython.core.display.HTML object>"
      ]
     },
     "metadata": {},
     "output_type": "display_data"
    },
    {
     "data": {
      "text/html": [],
      "text/plain": [
       "<IPython.core.display.HTML object>"
      ]
     },
     "metadata": {},
     "output_type": "display_data"
    },
    {
     "name": "stdout",
     "output_type": "stream",
     "text": [
      "Validation Results: {'eval_loss': 0.46939507126808167, 'eval_accuracy': 0.8644123440577807, 'eval_precision': 0.8644712772202431, 'eval_recall': 0.8644123440577807, 'eval_f1': 0.8639626203352668, 'eval_runtime': 54.7788, 'eval_samples_per_second': 55.605, 'eval_steps_per_second': 3.487, 'epoch': 3.0}\n",
      "Validation classification report:\n",
      "              precision    recall  f1-score   support\n",
      "\n",
      "           0       0.86      0.90      0.88      1700\n",
      "           1       0.87      0.82      0.84      1346\n",
      "\n",
      "    accuracy                           0.86      3046\n",
      "   macro avg       0.86      0.86      0.86      3046\n",
      "weighted avg       0.86      0.86      0.86      3046\n",
      "\n"
     ]
    },
    {
     "data": {
      "text/html": [],
      "text/plain": [
       "<IPython.core.display.HTML object>"
      ]
     },
     "metadata": {},
     "output_type": "display_data"
    }
   ],
   "source": [
    "X_test = test_df['processed_text']\n",
    "\n",
    "# 5. Preparing data for BERT\n",
    "model_name = 'bert-base-uncased' \n",
    "tokenizer = BertTokenizer.from_pretrained(model_name)\n",
    "\n",
    "# Function for tokenisation\n",
    "def encode_texts(texts, tokenizer, max_length=128):\n",
    "    return tokenizer(\n",
    "        texts.tolist(),\n",
    "        padding=True,\n",
    "        truncation=True,\n",
    "        max_length=max_length,\n",
    "        return_tensors='pt'\n",
    "    )\n",
    "\n",
    "# tokenisation\n",
    "train_encodings = encode_texts(X_train, tokenizer)\n",
    "val_encodings = encode_texts(X_val, tokenizer)\n",
    "test_encodings = encode_texts(X_test, tokenizer)\n",
    "\n",
    "# Creating your own Torch datasets\n",
    "class TextDataset(Dataset):\n",
    "    def __init__(self, encodings, labels=None):\n",
    "        self.encodings = encodings\n",
    "        self.labels = labels\n",
    "        \n",
    "    def __len__(self):\n",
    "        return len(self.encodings['input_ids'])\n",
    "    \n",
    "    def __getitem__(self, idx):\n",
    "        item = {key: val[idx] for key, val in self.encodings.items()}\n",
    "        if self.labels is not None:\n",
    "            item['labels'] = torch.tensor(self.labels.iloc[idx])\n",
    "        return item\n",
    "\n",
    "train_dataset = TextDataset(train_encodings, y_train)\n",
    "val_dataset = TextDataset(val_encodings, y_val)\n",
    "test_dataset = TextDataset(test_encodings)  # без меток\n",
    "\n",
    "# 6. Initialising the BERT model for classification \n",
    "model = BertForSequenceClassification.from_pretrained(model_name, num_labels=len(train_df['target'].unique()))\n",
    "\n",
    "# 7. Model estimation functions \n",
    "def compute_metrics(pred):\n",
    "    labels = pred.label_ids\n",
    "    preds = np.argmax(pred.predictions, axis=1)\n",
    "    precision = precision_score(labels, preds, average='weighted', zero_division=0)\n",
    "    recall = recall_score(labels, preds, average='weighted', zero_division=0)\n",
    "    f1 = f1_score(labels, preds, average='weighted', zero_division=0)\n",
    "    acc = accuracy_score(labels, preds)\n",
    "    return {\n",
    "        'accuracy': acc,\n",
    "        'precision': precision,\n",
    "        'recall': recall,\n",
    "        'f1': f1\n",
    "    }\n",
    "\n",
    "# 8. Training settings\n",
    "training_args = TrainingArguments(\n",
    "    output_dir='./results',\n",
    "    num_train_epochs=3,\n",
    "    per_device_train_batch_size=16,\n",
    "    per_device_eval_batch_size=16,\n",
    "    evaluation_strategy='epoch',\n",
    "    save_strategy='epoch',  \n",
    "    logging_dir='./logs',\n",
    "    logging_steps=100,\n",
    "    save_total_limit=1,\n",
    "    load_best_model_at_end=True,\n",
    "    metric_for_best_model='f1',\n",
    "    greater_is_better=True\n",
    ")\n",
    "\n",
    "trainer = Trainer(\n",
    "    model=model,\n",
    "    args=training_args,\n",
    "    train_dataset=train_dataset,\n",
    "    eval_dataset=val_dataset,\n",
    "    tokenizer=tokenizer,\n",
    "    compute_metrics=compute_metrics\n",
    ")\n",
    "\n",
    "# 9. Model training \n",
    "trainer.train()\n",
    "\n",
    "# Evaluation on the validation set\n",
    "val_results = trainer.evaluate()\n",
    "print(\"Validation Results:\", val_results)\n",
    "\n",
    "# Obtaining predictions for the validation set\n",
    "val_preds_output = trainer.predict(val_dataset)\n",
    "val_preds = np.argmax(val_preds_output.predictions, axis=1)\n",
    "print(\"Validation classification report:\")\n",
    "print(classification_report(y_val, val_preds))\n",
    "\n",
    "# 10.Applying the model to the test set \n",
    "test_preds_output = trainer.predict(test_dataset)\n",
    "test_preds = np.argmax(test_preds_output.predictions, axis=1)\n",
    "test_df['target'] = test_preds\n",
    "\n",
    "# Saving results\n",
    "test_df.to_csv('test_predictions_new.csv', index=False)\n"
   ]
  },
  {
   "cell_type": "code",
   "execution_count": 10,
   "id": "e30875f2-b099-450a-9dcb-0b3eab78e129",
   "metadata": {},
   "outputs": [],
   "source": [
    "\n",
    "sample_submission = pd.read_csv(\"test_predictions_new.csv\")\n",
    "sample_submission[\"target\"] = test_preds\n",
    "sample_submission.to_csv(\"sofia_submission_new.csv\", index=False)"
   ]
  }
 ],
 "metadata": {
  "kernelspec": {
   "display_name": "Python 3 (ipykernel)",
   "language": "python",
   "name": "python3"
  },
  "language_info": {
   "codemirror_mode": {
    "name": "ipython",
    "version": 3
   },
   "file_extension": ".py",
   "mimetype": "text/x-python",
   "name": "python",
   "nbconvert_exporter": "python",
   "pygments_lexer": "ipython3",
   "version": "3.10.8"
  }
 },
 "nbformat": 4,
 "nbformat_minor": 5
}
